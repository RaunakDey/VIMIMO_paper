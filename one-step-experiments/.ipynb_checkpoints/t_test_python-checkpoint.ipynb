{
 "cells": [
  {
   "cell_type": "code",
   "execution_count": 1,
   "id": "47047f4b-f379-4999-a81b-3c4b7820a929",
   "metadata": {},
   "outputs": [],
   "source": [
    "import scipy.io\n"
   ]
  },
  {
   "cell_type": "code",
   "execution_count": 2,
   "id": "d81578ae-285d-4a03-bba0-633f885d784f",
   "metadata": {},
   "outputs": [],
   "source": [
    "import matplotlib.pyplot as plt\n"
   ]
  },
  {
   "cell_type": "code",
   "execution_count": 3,
   "id": "a750ae39-599c-4c9e-92e9-f69dbc68b66b",
   "metadata": {},
   "outputs": [
    {
     "name": "stderr",
     "output_type": "stream",
     "text": [
      "/Users/rdey33/miniconda3/lib/python3.11/site-packages/scipy/io/matlab/_mio.py:227: MatReadWarning: Duplicate variable name \"None\" in stream - replacing previous with new\n",
      "Consider mio5.varmats_from_mat to split file into single variable files\n",
      "  matfile_dict = MR.get_variables(variable_names)\n"
     ]
    }
   ],
   "source": [
    "burn = 5000;\n",
    "\n",
    "mat = scipy.io.loadmat(\"./result_replicates/hp1_all13.mat\")\n",
    "hp1_all_beta = mat['chain'][burn:,3]\n",
    "\n",
    "mat2 = scipy.io.loadmat(\"./result_replicates/HP1_H10011.mat\")\n",
    "hp1_h100_beta =  mat2['chain'][burn:,3]\n",
    "\n",
    "mat3 = scipy.io.loadmat(\"./result_replicates/HP1_13-1511.mat\")\n",
    "hp1_1315_beta =  mat3['chain'][burn:,3]\n"
   ]
  },
  {
   "cell_type": "code",
   "execution_count": 4,
   "id": "c1ce632e-026c-4493-9e44-4e013bf1d940",
   "metadata": {},
   "outputs": [],
   "source": [
    "import numpy as np\n",
    "from scipy import stats\n"
   ]
  },
  {
   "cell_type": "code",
   "execution_count": 5,
   "id": "7a52cf3b-196d-4544-9158-44fbe4b12428",
   "metadata": {},
   "outputs": [],
   "source": [
    "from scipy.stats import ttest_ind\n",
    "\n"
   ]
  },
  {
   "cell_type": "code",
   "execution_count": 6,
   "id": "266863b4-44be-41ed-8243-97fcb912d550",
   "metadata": {},
   "outputs": [],
   "source": [
    "def t_test_function(var1,var2,type,alpha,display_hist='False'):\n",
    "    # Perform two-tailed t-test\n",
    "    t_stat, p_value_two_tailed = ttest_ind(var1,var2, equal_var=False,alternative=type)\n",
    "\n",
    "\n",
    "    print(f\"T-statistic: {t_stat}\")\n",
    "    print(f\"two-tailed p-value: {p_value_two_tailed}\")\n",
    "\n",
    "    if p_value_two_tailed < alpha:\n",
    "        print(\"Reject the null hypothesis\")\n",
    "    else:\n",
    "        print(\"Fail to reject the null hypothesis\")\n",
    "        \n",
    "    if display_hist is True:\n",
    "        plt.hist(var1, cumulative=False, label='var1', histtype='step',  color='black')\n",
    "        plt.hist(var2, cumulative=False, label='var2', histtype='step', color='red')\n",
    "        plt.show()"
   ]
  },
  {
   "cell_type": "code",
   "execution_count": 7,
   "id": "0313e095-5817-4d65-89a4-363216970c35",
   "metadata": {},
   "outputs": [
    {
     "name": "stdout",
     "output_type": "stream",
     "text": [
      "T-statistic: 9.777843249327843\n",
      "two-tailed p-value: 2.6177530927301332e-18\n",
      "Reject the null hypothesis\n"
     ]
    }
   ],
   "source": [
    "t_test_function(hp1_all_beta[0:5000:50],hp1_h100_beta[0:5000:50],'greater',0.05)"
   ]
  },
  {
   "cell_type": "code",
   "execution_count": 8,
   "id": "3157808f-59f2-421e-a6ba-4d44f4b17819",
   "metadata": {},
   "outputs": [
    {
     "name": "stdout",
     "output_type": "stream",
     "text": [
      "T-statistic: 7.327172150480524\n",
      "two-tailed p-value: 3.6486492710608655e-12\n",
      "Reject the null hypothesis\n"
     ]
    }
   ],
   "source": [
    "t_test_function(hp1_all_beta[0:5000:50],hp1_1315_beta[0:5000:50],'greater',0.05)"
   ]
  },
  {
   "cell_type": "code",
   "execution_count": 28,
   "id": "b1143854-7d0d-4dd4-9df8-461897c0a4d8",
   "metadata": {},
   "outputs": [],
   "source": [
    "mat4 = scipy.io.loadmat(\"./result_replicates/hs6_all13.mat\");\n",
    "hs6_all_beta = mat4['chain'][burn:,3]\n",
    "\n",
    "#mat5 = scipy.io.loadmat(\"./results_same_phi/HS6_H100_3-inferred.mat\");\n",
    "mat5 = scipy.io.loadmat(\"./result_replicates/hs6_h100_15.mat\");\n",
    "hs6_h100_beta = mat5['chain'][burn:,3]\n",
    "\n",
    "mat6 = scipy.io.loadmat(\"./result_replicates/HS6_13-1511.mat\");\n",
    "hs6_1315_beta = mat6['chain'][burn:,3]\n"
   ]
  },
  {
   "cell_type": "code",
   "execution_count": 29,
   "id": "688cff80-8c35-426e-867c-63693b68c1f0",
   "metadata": {},
   "outputs": [
    {
     "name": "stdout",
     "output_type": "stream",
     "text": [
      "T-statistic: -13.03316114131508\n",
      "two-tailed p-value: 2.939914574997327e-24\n",
      "Reject the null hypothesis\n"
     ]
    }
   ],
   "source": [
    "t_test_function(hs6_all_beta[0:5000:50],hs6_h100_beta[0:5000:50],'less',0.05)"
   ]
  },
  {
   "cell_type": "code",
   "execution_count": 30,
   "id": "53737f16-4da6-4627-87a0-b28ba75d1476",
   "metadata": {},
   "outputs": [
    {
     "name": "stdout",
     "output_type": "stream",
     "text": [
      "T-statistic: -7.704980766801326\n",
      "two-tailed p-value: 3.0849328132471425e-13\n",
      "Reject the null hypothesis\n"
     ]
    }
   ],
   "source": [
    "t_test_function(hs6_all_beta[0:5000:50],hs6_1315_beta[0:5000:50],'less',0.05)"
   ]
  },
  {
   "cell_type": "code",
   "execution_count": 31,
   "id": "418cd2e4-78f8-41cd-a665-2c964af0a564",
   "metadata": {},
   "outputs": [
    {
     "name": "stdout",
     "output_type": "stream",
     "text": [
      "141.90091504289015\n",
      "51.8989549908012\n"
     ]
    }
   ],
   "source": [
    "import numpy as np\n",
    "print(np.mean(hp1_all_beta))\n",
    "print(np.std(hp1_all_beta))"
   ]
  },
  {
   "cell_type": "code",
   "execution_count": 32,
   "id": "7aa889eb-43fd-43e7-a3ad-c7cf936c5bed",
   "metadata": {},
   "outputs": [
    {
     "name": "stdout",
     "output_type": "stream",
     "text": [
      "80.53186735652731\n",
      "30.19255783501569\n"
     ]
    }
   ],
   "source": [
    "print(np.mean(hp1_h100_beta))\n",
    "print(np.std(hp1_h100_beta))"
   ]
  },
  {
   "cell_type": "code",
   "execution_count": 33,
   "id": "9751ef5c-a237-4290-a2de-c924f8a7c816",
   "metadata": {},
   "outputs": [
    {
     "name": "stdout",
     "output_type": "stream",
     "text": [
      "96.23740878426801\n",
      "42.212917707124255\n"
     ]
    }
   ],
   "source": [
    "print(np.mean(hp1_1315_beta))\n",
    "print(np.std(hp1_1315_beta))"
   ]
  },
  {
   "cell_type": "code",
   "execution_count": 34,
   "id": "ee078b8d-d546-4b0d-840b-2180ee50c1f7",
   "metadata": {},
   "outputs": [
    {
     "name": "stdout",
     "output_type": "stream",
     "text": [
      "252.6286290091474\n",
      "72.7614571803017\n"
     ]
    }
   ],
   "source": [
    "print(np.mean(hs6_all_beta))\n",
    "print(np.std(hs6_all_beta))"
   ]
  },
  {
   "cell_type": "code",
   "execution_count": 35,
   "id": "dc416ad0-6760-4996-8030-76eee4ed848f",
   "metadata": {},
   "outputs": [
    {
     "name": "stdout",
     "output_type": "stream",
     "text": [
      "357.2592547091222\n",
      "17.776832137846466\n"
     ]
    }
   ],
   "source": [
    "print(np.mean(hs6_h100_beta))\n",
    "print(np.std(hs6_h100_beta))"
   ]
  },
  {
   "cell_type": "code",
   "execution_count": 36,
   "id": "0533b6ea-1bd8-4d03-bcdd-ddbbfc782524",
   "metadata": {},
   "outputs": [
    {
     "name": "stdout",
     "output_type": "stream",
     "text": [
      "329.10226897594566\n",
      "71.87047478844259\n"
     ]
    }
   ],
   "source": [
    "print(np.mean(hs6_1315_beta))\n",
    "print(np.std(hs6_1315_beta))"
   ]
  },
  {
   "cell_type": "code",
   "execution_count": 37,
   "id": "68579d69-1b4e-4fc6-962e-ccd75922fe36",
   "metadata": {},
   "outputs": [
    {
     "data": {
      "text/plain": [
       "[<matplotlib.lines.Line2D at 0x14bc3ffd0>]"
      ]
     },
     "execution_count": 37,
     "metadata": {},
     "output_type": "execute_result"
    },
    {
     "data": {
      "image/png": "[encoded data removed]",
      "text/plain": [
       "<Figure size 640x480 with 1 Axes>"
      ]
     },
     "metadata": {},
     "output_type": "display_data"
    }
   ],
   "source": [
    " plt.plot(mat5['chain'][:,3])"
   ]
  },
  {
   "cell_type": "code",
   "execution_count": null,
   "id": "72e42c6d-c477-4caa-a03c-4347bb7f33d2",
   "metadata": {},
   "outputs": [],
   "source": []
  }
 ],
 "metadata": {
  "kernelspec": {
   "display_name": "Python 3 (ipykernel)",
   "language": "python",
   "name": "python3"
  },
  "language_info": {
   "codemirror_mode": {
    "name": "ipython",
    "version": 3
   },
   "file_extension": ".py",
   "mimetype": "text/x-python",
   "name": "python",
   "nbconvert_exporter": "python",
   "pygments_lexer": "ipython3",
   "version": "3.11.4"
  }
 },
 "nbformat": 4,
 "nbformat_minor": 5
}
