{
 "cells": [
  {
   "cell_type": "code",
   "execution_count": 1,
   "id": "47047f4b-f379-4999-a81b-3c4b7820a929",
   "metadata": {},
   "outputs": [],
   "source": [
    "import scipy.io\n"
   ]
  },
  {
   "cell_type": "code",
   "execution_count": 2,
   "id": "d81578ae-285d-4a03-bba0-633f885d784f",
   "metadata": {},
   "outputs": [],
   "source": [
    "import matplotlib.pyplot as plt\n"
   ]
  },
  {
   "cell_type": "code",
   "execution_count": 3,
   "id": "a750ae39-599c-4c9e-92e9-f69dbc68b66b",
   "metadata": {},
   "outputs": [
    {
     "name": "stderr",
     "output_type": "stream",
     "text": [
      "/Users/rdey33/miniconda3/lib/python3.11/site-packages/scipy/io/matlab/_mio.py:227: MatReadWarning: Duplicate variable name \"None\" in stream - replacing previous with new\n",
      "Consider mio5.varmats_from_mat to split file into single variable files\n",
      "  matfile_dict = MR.get_variables(variable_names)\n"
     ]
    }
   ],
   "source": [
    "burn = 5000;\n",
    "\n",
    "mat = scipy.io.loadmat(\"./result_replicates/hp1_all13.mat\")\n",
    "hp1_all_beta = mat['chain'][burn:,3]\n",
    "\n",
    "mat2 = scipy.io.loadmat(\"./result_replicates/HP1_H10011.mat\")\n",
    "hp1_h100_beta =  mat2['chain'][burn:,3]\n",
    "\n",
    "mat3 = scipy.io.loadmat(\"./result_replicates/HP1_13-1511.mat\")\n",
    "hp1_1315_beta =  mat3['chain'][burn:,3]\n"
   ]
  },
  {
   "cell_type": "code",
   "execution_count": 4,
   "id": "c1ce632e-026c-4493-9e44-4e013bf1d940",
   "metadata": {},
   "outputs": [],
   "source": [
    "import numpy as np\n",
    "from scipy import stats\n"
   ]
  },
  {
   "cell_type": "code",
   "execution_count": 33,
   "id": "0313e095-5817-4d65-89a4-363216970c35",
   "metadata": {},
   "outputs": [
    {
     "name": "stdout",
     "output_type": "stream",
     "text": [
      "KS Statistic: 0.61\n",
      "P-value: 3.7582242837849196e-17\n",
      "Reject the null hypothesis: The two distributions are different.\n"
     ]
    }
   ],
   "source": [
    "# Perform the two-sample KS test\n",
    "ks_statistic, p_value = stats.ks_2samp(hp1_all_beta[0:5000:50], hp1_h100_beta[0:5000:50],alternative='less',method='asymp')\n",
    "\n",
    "print(f\"KS Statistic: {ks_statistic}\")\n",
    "print(f\"P-value: {p_value}\")\n",
    "\n",
    "# Interpret the result\n",
    "alpha = 0.01\n",
    "if p_value < alpha:\n",
    "    print(\"Reject the null hypothesis: The two distributions are different.\")\n",
    "else:\n",
    "    print(\"Fail to reject the null hypothesis: The two distributions are the same.\")\n"
   ]
  },
  {
   "cell_type": "code",
   "execution_count": 31,
   "id": "1d912b07-71fb-40e6-ae92-43a8a2cc049f",
   "metadata": {},
   "outputs": [
    {
     "name": "stdout",
     "output_type": "stream",
     "text": [
      "KS Statistic: 0.47\n",
      "P-value: 1.1795840175423672e-10\n",
      "Reject the null hypothesis: The two distributions are different.\n"
     ]
    }
   ],
   "source": [
    "# Perform the two-sample KS test\n",
    "ks_statistic, p_value = stats.ks_2samp(hp1_all_beta[0:5000:50], hp1_1315_beta[0:5000:50],alternative='less')\n",
    "\n",
    "print(f\"KS Statistic: {ks_statistic}\")\n",
    "print(f\"P-value: {p_value}\")\n",
    "\n",
    "# Interpret the result\n",
    "alpha = 0.01\n",
    "if p_value < alpha:\n",
    "    print(\"Reject the null hypothesis: The two distributions are different.\")\n",
    "else:\n",
    "    print(\"Fail to reject the null hypothesis: The two distributions are the same.\")"
   ]
  },
  {
   "cell_type": "code",
   "execution_count": null,
   "id": "3157808f-59f2-421e-a6ba-4d44f4b17819",
   "metadata": {},
   "outputs": [],
   "source": []
  },
  {
   "cell_type": "code",
   "execution_count": 10,
   "id": "b1143854-7d0d-4dd4-9df8-461897c0a4d8",
   "metadata": {},
   "outputs": [
    {
     "name": "stderr",
     "output_type": "stream",
     "text": [
      "/Users/rdey33/miniconda3/lib/python3.11/site-packages/scipy/io/matlab/_mio.py:227: MatReadWarning: Duplicate variable name \"None\" in stream - replacing previous with new\n",
      "Consider mio5.varmats_from_mat to split file into single variable files\n",
      "  matfile_dict = MR.get_variables(variable_names)\n"
     ]
    }
   ],
   "source": [
    "mat4 = scipy.io.loadmat(\"./result_replicates/hs6_all13.mat\");\n",
    "hs6_all_beta = mat4['chain'][burn:,3]\n",
    "\n",
    "mat5 = scipy.io.loadmat(\"./results_same_phi/HS6_H100_3-inferred.mat\");\n",
    "hs6_h100_beta = mat5['chain'][burn:,3]\n",
    "\n",
    "mat6 = scipy.io.loadmat(\"./result_replicates/HS6_13-1511.mat\");\n",
    "hs6_1315_beta = mat6['chain'][burn:,3]\n"
   ]
  },
  {
   "cell_type": "code",
   "execution_count": 28,
   "id": "4ca69381-5ce2-4565-bd13-385e59a103e2",
   "metadata": {},
   "outputs": [
    {
     "name": "stdout",
     "output_type": "stream",
     "text": [
      "KS Statistic: 0.77\n",
      "P-value: 9.618049205594992e-30\n",
      "Reject the null hypothesis: The two distributions are different.\n"
     ]
    }
   ],
   "source": [
    "# Perform the two-sample KS test\n",
    "ks_statistic, p_value = stats.ks_2samp(hs6_all_beta[0:5000:50], hs6_h100_beta[0:5000:50],alternative='greater')\n",
    "\n",
    "\n",
    "\n",
    "np.set_printoptions(precision=20)\n",
    "print(f\"KS Statistic: {ks_statistic}\")\n",
    "print(f\"P-value: {p_value}\")\n",
    "\n",
    "\n",
    "# Interpret the result\n",
    "alpha = 0.05\n",
    "if p_value < alpha:\n",
    "    print(\"Reject the null hypothesis: The two distributions are different.\")\n",
    "else:\n",
    "    print(\"Fail to reject the null hypothesis: The two distributions are the same.\")"
   ]
  },
  {
   "cell_type": "code",
   "execution_count": 29,
   "id": "eee059c7-7a8e-4237-b808-f6e6199f7d97",
   "metadata": {},
   "outputs": [
    {
     "name": "stdout",
     "output_type": "stream",
     "text": [
      "KS Statistic: 0.51\n",
      "P-value: 1.6597095123115084e-12\n",
      "Reject the null hypothesis: The two distributions are different.\n"
     ]
    }
   ],
   "source": [
    "# Perform the two-sample KS test\n",
    "ks_statistic, p_value = stats.ks_2samp(hs6_all_beta[0:5000:50], hs6_1315_beta[0:5000:50],alternative='greater')\n",
    "\n",
    "print(f\"KS Statistic: {ks_statistic}\")\n",
    "print(f\"P-value: {p_value}\")\n",
    "\n",
    "# Interpret the result\n",
    "alpha = 0.05\n",
    "if p_value < alpha:\n",
    "    print(\"Reject the null hypothesis: The two distributions are different.\")\n",
    "else:\n",
    "    print(\"Fail to reject the null hypothesis: The two distributions are the same.\")"
   ]
  },
  {
   "cell_type": "code",
   "execution_count": 18,
   "id": "1c9b7ff0-4a14-47bc-a634-7f5c31bff57b",
   "metadata": {},
   "outputs": [
    {
     "data": {
      "text/plain": [
       "(5000,)"
      ]
     },
     "execution_count": 18,
     "metadata": {},
     "output_type": "execute_result"
    }
   ],
   "source": [
    "hs6_all_beta.shape"
   ]
  },
  {
   "cell_type": "code",
   "execution_count": 27,
   "id": "e82c1a80-24a6-44af-bf4e-15a1b4238dde",
   "metadata": {},
   "outputs": [
    {
     "data": {
      "text/plain": [
       "(100,)"
      ]
     },
     "execution_count": 27,
     "metadata": {},
     "output_type": "execute_result"
    }
   ],
   "source": [
    "hs6_all_beta[0:5000:50].shape"
   ]
  },
  {
   "cell_type": "code",
   "execution_count": 13,
   "id": "f93627e9-1219-40dc-a0c6-8dc032c481b0",
   "metadata": {},
   "outputs": [
    {
     "data": {
      "text/plain": [
       "(array([   8.,   17.,   37.,   85.,  147.,  237.,  343.,  507.,  762.,\n",
       "        1099., 1467., 1836., 2246., 2628., 3024., 3395., 3801., 4076.,\n",
       "        4306., 4496., 4650., 4740., 4828., 4887., 4925., 4959., 4970.,\n",
       "        4990., 4998., 5000.]),\n",
       " array([209.04270496, 225.6644248 , 242.28614464, 258.90786449,\n",
       "        275.52958433, 292.15130418, 308.77302402, 325.39474386,\n",
       "        342.01646371, 358.63818355, 375.25990339, 391.88162324,\n",
       "        408.50334308, 425.12506293, 441.74678277, 458.36850261,\n",
       "        474.99022246, 491.6119423 , 508.23366214, 524.85538199,\n",
       "        541.47710183, 558.09882168, 574.72054152, 591.34226136,\n",
       "        607.96398121, 624.58570105, 641.2074209 , 657.82914074,\n",
       "        674.45086058, 691.07258043, 707.69430027]),\n",
       " [<matplotlib.patches.Polygon at 0x13fe30cd0>])"
      ]
     },
     "execution_count": 13,
     "metadata": {},
     "output_type": "execute_result"
    },
    {
     "data": {
      "image/png": "[encoded data removed]",
      "text/plain": [
       "<Figure size 640x480 with 1 Axes>"
      ]
     },
     "metadata": {},
     "output_type": "display_data"
    }
   ],
   "source": [
    "plt.hist(hs6_all_beta, bins=30, cumulative=True, label='CDF DATA', histtype='step',  color='black')\n",
    "plt.hist(hs6_h100_beta, bins=30, cumulative=True, label='CDF DATA', histtype='step', color='red')"
   ]
  },
  {
   "cell_type": "code",
   "execution_count": 15,
   "id": "b1fa07a9-8c9a-438b-9110-26a76110d063",
   "metadata": {},
   "outputs": [
    {
     "data": {
      "text/plain": [
       "(array([  4.,   4.,   8.,   8.,  13.,  16.,  50.,  31.,  40.,  63.,  57.,\n",
       "         83.,  88., 132., 165., 199., 217., 225., 211., 222., 245., 224.,\n",
       "        231., 251., 237., 207., 252., 224., 205., 164., 153., 127., 114.,\n",
       "         94.,  86.,  64.,  45.,  57.,  48.,  23.,  22.,  21.,  22.,  12.,\n",
       "          6.,  13.,   9.,   4.,   3.,   1.]),\n",
       " array([209.04270496, 219.01573686, 228.98876877, 238.96180068,\n",
       "        248.93483258, 258.90786449, 268.88089639, 278.8539283 ,\n",
       "        288.82696021, 298.79999211, 308.77302402, 318.74605593,\n",
       "        328.71908783, 338.69211974, 348.66515164, 358.63818355,\n",
       "        368.61121546, 378.58424736, 388.55727927, 398.53031118,\n",
       "        408.50334308, 418.47637499, 428.44940689, 438.4224388 ,\n",
       "        448.39547071, 458.36850261, 468.34153452, 478.31456643,\n",
       "        488.28759833, 498.26063024, 508.23366214, 518.20669405,\n",
       "        528.17972596, 538.15275786, 548.12578977, 558.09882168,\n",
       "        568.07185358, 578.04488549, 588.0179174 , 597.9909493 ,\n",
       "        607.96398121, 617.93701311, 627.91004502, 637.88307693,\n",
       "        647.85610883, 657.82914074, 667.80217265, 677.77520455,\n",
       "        687.74823646, 697.72126836, 707.69430027]),\n",
       " [<matplotlib.patches.Polygon at 0x148006f50>])"
      ]
     },
     "execution_count": 15,
     "metadata": {},
     "output_type": "execute_result"
    },
    {
     "data": {
      "image/png": "[encoded data removed]",
      "text/plain": [
       "<Figure size 640x480 with 1 Axes>"
      ]
     },
     "metadata": {},
     "output_type": "display_data"
    }
   ],
   "source": [
    "plt.hist(hs6_all_beta, bins=50, cumulative=False, label='CDF DATA', histtype='step',  color='black')\n",
    "plt.hist(hs6_h100_beta, bins=50, cumulative=False, label='CDF DATA', histtype='step', color='red')"
   ]
  },
  {
   "cell_type": "code",
   "execution_count": null,
   "id": "0b23eebd-9526-425a-9e34-ca75294fdf6b",
   "metadata": {},
   "outputs": [],
   "source": []
  }
 ],
 "metadata": {
  "kernelspec": {
   "display_name": "Python 3 (ipykernel)",
   "language": "python",
   "name": "python3"
  },
  "language_info": {
   "codemirror_mode": {
    "name": "ipython",
    "version": 3
   },
   "file_extension": ".py",
   "mimetype": "text/x-python",
   "name": "python",
   "nbconvert_exporter": "python",
   "pygments_lexer": "ipython3",
   "version": "3.11.4"
  }
 },
 "nbformat": 4,
 "nbformat_minor": 5
}
